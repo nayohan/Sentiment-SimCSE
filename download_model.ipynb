{
 "cells": [
  {
   "cell_type": "code",
   "execution_count": null,
   "metadata": {},
   "outputs": [],
   "source": [
    "from transformers import AutoTokenizer, AutoModel\n",
    "\n",
    "# Load Tokenizer & Model 1\n",
    "tokenizer = AutoTokenizer.from_pretrained('bert-base-uncased')\n",
    "model = AutoModel.from_pretrained('bert-base-uncased')\n",
    "\n",
    "model.save_pretrained('./bert-base-uncased')\n",
    "tokenizer.save_pretrained('./bert-base-uncased')"
   ]
  },
  {
   "cell_type": "code",
   "execution_count": 7,
   "metadata": {},
   "outputs": [
    {
     "ename": "AttributeError",
     "evalue": "'NoneType' object has no attribute '__name__'",
     "output_type": "error",
     "traceback": [
      "\u001b[0;31m---------------------------------------------------------------------------\u001b[0m",
      "\u001b[0;31mAttributeError\u001b[0m                            Traceback (most recent call last)",
      "\u001b[1;32m/home/uj-user/SimCSE/download_model.ipynb Cell 2'\u001b[0m in \u001b[0;36m<cell line: 3>\u001b[0;34m()\u001b[0m\n\u001b[1;32m      <a href='vscode-notebook-cell://ssh-remote%2Buju/home/uj-user/SimCSE/download_model.ipynb#ch0000001vscode-remote?line=0'>1</a>\u001b[0m \u001b[39mfrom\u001b[39;00m \u001b[39mtransformers\u001b[39;00m \u001b[39mimport\u001b[39;00m AutoTokenizer, AutoModel\n\u001b[0;32m----> <a href='vscode-notebook-cell://ssh-remote%2Buju/home/uj-user/SimCSE/download_model.ipynb#ch0000001vscode-remote?line=2'>3</a>\u001b[0m tokenizer \u001b[39m=\u001b[39m AutoTokenizer\u001b[39m.\u001b[39;49mfrom_pretrained(\u001b[39m\"\u001b[39;49m\u001b[39mvinai/bertweet-base\u001b[39;49m\u001b[39m\"\u001b[39;49m)\n",
      "File \u001b[0;32m~/miniconda3/envs/simcse/lib/python3.8/site-packages/transformers/models/auto/tokenization_auto.py:360\u001b[0m, in \u001b[0;36mAutoTokenizer.from_pretrained\u001b[0;34m(cls, pretrained_model_name_or_path, *inputs, **kwargs)\u001b[0m\n\u001b[1;32m    <a href='file:///home/uj-user/miniconda3/envs/simcse/lib/python3.8/site-packages/transformers/models/auto/tokenization_auto.py?line=357'>358</a>\u001b[0m \u001b[39mif\u001b[39;00m use_fast \u001b[39mand\u001b[39;00m \u001b[39mnot\u001b[39;00m config\u001b[39m.\u001b[39mtokenizer_class\u001b[39m.\u001b[39mendswith(\u001b[39m\"\u001b[39m\u001b[39mFast\u001b[39m\u001b[39m\"\u001b[39m):\n\u001b[1;32m    <a href='file:///home/uj-user/miniconda3/envs/simcse/lib/python3.8/site-packages/transformers/models/auto/tokenization_auto.py?line=358'>359</a>\u001b[0m     tokenizer_class_candidate \u001b[39m=\u001b[39m \u001b[39mf\u001b[39m\u001b[39m\"\u001b[39m\u001b[39m{\u001b[39;00mconfig\u001b[39m.\u001b[39mtokenizer_class\u001b[39m}\u001b[39;00m\u001b[39mFast\u001b[39m\u001b[39m\"\u001b[39m\n\u001b[0;32m--> <a href='file:///home/uj-user/miniconda3/envs/simcse/lib/python3.8/site-packages/transformers/models/auto/tokenization_auto.py?line=359'>360</a>\u001b[0m     tokenizer_class \u001b[39m=\u001b[39m tokenizer_class_from_name(tokenizer_class_candidate)\n\u001b[1;32m    <a href='file:///home/uj-user/miniconda3/envs/simcse/lib/python3.8/site-packages/transformers/models/auto/tokenization_auto.py?line=360'>361</a>\u001b[0m \u001b[39mif\u001b[39;00m tokenizer_class \u001b[39mis\u001b[39;00m \u001b[39mNone\u001b[39;00m:\n\u001b[1;32m    <a href='file:///home/uj-user/miniconda3/envs/simcse/lib/python3.8/site-packages/transformers/models/auto/tokenization_auto.py?line=361'>362</a>\u001b[0m     tokenizer_class_candidate \u001b[39m=\u001b[39m config\u001b[39m.\u001b[39mtokenizer_class\n",
      "File \u001b[0;32m~/miniconda3/envs/simcse/lib/python3.8/site-packages/transformers/models/auto/tokenization_auto.py:263\u001b[0m, in \u001b[0;36mtokenizer_class_from_name\u001b[0;34m(class_name)\u001b[0m\n\u001b[1;32m    <a href='file:///home/uj-user/miniconda3/envs/simcse/lib/python3.8/site-packages/transformers/models/auto/tokenization_auto.py?line=256'>257</a>\u001b[0m all_tokenizer_classes \u001b[39m=\u001b[39m (\n\u001b[1;32m    <a href='file:///home/uj-user/miniconda3/envs/simcse/lib/python3.8/site-packages/transformers/models/auto/tokenization_auto.py?line=257'>258</a>\u001b[0m     [v[\u001b[39m0\u001b[39m] \u001b[39mfor\u001b[39;00m v \u001b[39min\u001b[39;00m TOKENIZER_MAPPING\u001b[39m.\u001b[39mvalues() \u001b[39mif\u001b[39;00m v[\u001b[39m0\u001b[39m] \u001b[39mis\u001b[39;00m \u001b[39mnot\u001b[39;00m \u001b[39mNone\u001b[39;00m]\n\u001b[1;32m    <a href='file:///home/uj-user/miniconda3/envs/simcse/lib/python3.8/site-packages/transformers/models/auto/tokenization_auto.py?line=258'>259</a>\u001b[0m     \u001b[39m+\u001b[39m [v[\u001b[39m1\u001b[39m] \u001b[39mfor\u001b[39;00m v \u001b[39min\u001b[39;00m TOKENIZER_MAPPING\u001b[39m.\u001b[39mvalues() \u001b[39mif\u001b[39;00m v[\u001b[39m1\u001b[39m] \u001b[39mis\u001b[39;00m \u001b[39mnot\u001b[39;00m \u001b[39mNone\u001b[39;00m]\n\u001b[1;32m    <a href='file:///home/uj-user/miniconda3/envs/simcse/lib/python3.8/site-packages/transformers/models/auto/tokenization_auto.py?line=259'>260</a>\u001b[0m     \u001b[39m+\u001b[39m NO_CONFIG_TOKENIZER\n\u001b[1;32m    <a href='file:///home/uj-user/miniconda3/envs/simcse/lib/python3.8/site-packages/transformers/models/auto/tokenization_auto.py?line=260'>261</a>\u001b[0m )\n\u001b[1;32m    <a href='file:///home/uj-user/miniconda3/envs/simcse/lib/python3.8/site-packages/transformers/models/auto/tokenization_auto.py?line=261'>262</a>\u001b[0m \u001b[39mfor\u001b[39;00m c \u001b[39min\u001b[39;00m all_tokenizer_classes:\n\u001b[0;32m--> <a href='file:///home/uj-user/miniconda3/envs/simcse/lib/python3.8/site-packages/transformers/models/auto/tokenization_auto.py?line=262'>263</a>\u001b[0m     \u001b[39mif\u001b[39;00m c\u001b[39m.\u001b[39;49m\u001b[39m__name__\u001b[39;49m \u001b[39m==\u001b[39m class_name:\n\u001b[1;32m    <a href='file:///home/uj-user/miniconda3/envs/simcse/lib/python3.8/site-packages/transformers/models/auto/tokenization_auto.py?line=263'>264</a>\u001b[0m         \u001b[39mreturn\u001b[39;00m c\n",
      "\u001b[0;31mAttributeError\u001b[0m: 'NoneType' object has no attribute '__name__'"
     ]
    }
   ],
   "source": [
    "from transformers import AutoTokenizer, AutoModel\n",
    "\n",
    "tokenizer = AutoTokenizer.from_pretrained(\"vinai/bertweet-base\")#, use_fast=False)"
   ]
  },
  {
   "cell_type": "code",
   "execution_count": 5,
   "metadata": {},
   "outputs": [
    {
     "name": "stderr",
     "output_type": "stream",
     "text": [
      "Special tokens have been added in the vocabulary, make sure the associated word embedding are fine-tuned or trained.\n"
     ]
    }
   ],
   "source": [
    "import torch\n",
    "from transformers import AutoModel, AutoTokenizer\n",
    "\n",
    "#bertweet = AutoModel.from_pretrained(\"vinai/bertweet-base\")\n",
    "\n",
    "# For transformers v4.x+:\n",
    "tokenizer = AutoTokenizer.from_pretrained(\"vinai/bertweet-base\", use_fast=False)\n",
    "\n",
    "# For transformers v3.x:\n",
    "# tokenizer = AutoTokenizer.from_pretrained(\"vinai/bertweet-base\")\n",
    "\n",
    "# INPUT TWEET IS ALREADY NORMALIZED!\n",
    "line = \"SC has first two presumptive cases of coronavirus , DHEC confirms HTTPURL via @USER :cry:\"\n",
    "\n",
    "input_ids = torch.tensor([tokenizer.encode(line)])\n",
    "\n",
    "# with torch.no_grad():\n",
    "#     features = bertweet(input_ids)  # Models outputs are now tuples\n",
    "\n",
    "# With TensorFlow 2.0+:\n",
    "# from transformers import TFAutoModel\n",
    "# bertweet = TFAutoModel.from_pretrained(\"vinai/bertweet-base\")"
   ]
  },
  {
   "cell_type": "code",
   "execution_count": null,
   "metadata": {},
   "outputs": [],
   "source": []
  }
 ],
 "metadata": {
  "kernelspec": {
   "display_name": "Python 3.8.13 ('simcse')",
   "language": "python",
   "name": "python3"
  },
  "language_info": {
   "codemirror_mode": {
    "name": "ipython",
    "version": 3
   },
   "file_extension": ".py",
   "mimetype": "text/x-python",
   "name": "python",
   "nbconvert_exporter": "python",
   "pygments_lexer": "ipython3",
   "version": "3.8.13"
  },
  "orig_nbformat": 4,
  "vscode": {
   "interpreter": {
    "hash": "e00180a1630cf22a1069826ab22854310a9877c37bce0246f6be786d87944223"
   }
  }
 },
 "nbformat": 4,
 "nbformat_minor": 2
}
